{
 "cells": [
  {
   "cell_type": "code",
   "execution_count": 2,
   "id": "19057e1b",
   "metadata": {},
   "outputs": [],
   "source": [
    "#meta 10-11-2023 CSV to GSheets for RapidText\n",
    "\n",
    "#env myMBpro\n",
    "#Google Spreadsheets Python API\n",
    "# conda install -c conda-forge gspread v5.7.1\n",
    "\n",
    "#notes\n",
    "#See G Authentication doc for important info\n",
    "\n",
    "#history\n",
    "#10/11/2023 AUTOMATE: CSV to GSheets\n",
    "#     local: get csv\n",
    "#     myAcct -> GSheet: update w/ changes\n",
    "\n",
    "#10/30/2023 AUTOMATE: Sort GSheet by Date, FName\n",
    "#     local: get csv\n",
    "#     GSheet: update w/ latest data and sort by Date\n",
    "\n",
    "\n",
    "#References\n",
    "#G Authentication\n",
    "# https://docs.gspread.org/en/latest/oauth2.html#authentication\n",
    "\n",
    "#Examples of gspread Usage\n",
    "# https://docs.gspread.org/en/v5.10.0/user-guide.html\n",
    "\n",
    "#CSV to Google Sheets python\n",
    "# https://stackoverflow.com/questions/74083802/csv-to-google-sheets-python\n",
    "\n",
    "#How to find the first empty row of a google spread sheet using python GSPREAD?\n",
    "# refer to https://stackoverflow.com/questions/40781295/how-to-find-the-first-empty-row-of-a-google-spread-sheet-using-python-gspread\n"
   ]
  },
  {
   "cell_type": "code",
   "execution_count": 3,
   "id": "e6ff21a7",
   "metadata": {},
   "outputs": [],
   "source": [
    "import csv\n",
    "import gspread"
   ]
  },
  {
   "cell_type": "code",
   "execution_count": 4,
   "id": "5b2d0e95",
   "metadata": {},
   "outputs": [
    {
     "data": {
      "text/plain": [
       "'5.7.1'"
      ]
     },
     "execution_count": 4,
     "metadata": {},
     "output_type": "execute_result"
    }
   ],
   "source": [
    "gspread.__version__"
   ]
  },
  {
   "cell_type": "markdown",
   "id": "1b747fe9",
   "metadata": {},
   "source": [
    "# Automate: CSV to G Sheets"
   ]
  },
  {
   "cell_type": "code",
   "execution_count": 5,
   "id": "3de79f23",
   "metadata": {},
   "outputs": [],
   "source": [
    "FILE_IN = 'data/myTest.csv'\n",
    "SHEET_ID = 'my_gsh_test'\n",
    "SHEET_NAME = 'Sheet1'"
   ]
  },
  {
   "cell_type": "markdown",
   "id": "ee4f0842",
   "metadata": {},
   "source": [
    "## 1. Get CSV Data"
   ]
  },
  {
   "cell_type": "code",
   "execution_count": 6,
   "id": "53936f05",
   "metadata": {},
   "outputs": [
    {
     "data": {
      "text/plain": [
       "[['First Name',\n",
       "  'Middle Name',\n",
       "  'Last Name',\n",
       "  'Pref. Phone',\n",
       "  'Mobile Phone',\n",
       "  'Date added',\n",
       "  'Created date',\n",
       "  'Updated by'],\n",
       " ['Mickey',\n",
       "  '',\n",
       "  'Mouse',\n",
       "  '123-123-1234',\n",
       "  '',\n",
       "  '2023-06-04',\n",
       "  '2023-06-04 20:43:36 -0700',\n",
       "  '']]"
      ]
     },
     "execution_count": 6,
     "metadata": {},
     "output_type": "execute_result"
    }
   ],
   "source": [
    "f = open(FILE_IN, \"r\")\n",
    "values = [r for r in csv.reader(f)]\n",
    "\n",
    "values[:2]"
   ]
  },
  {
   "cell_type": "markdown",
   "id": "d04acd6f",
   "metadata": {},
   "source": [
    "## 2. Work with G Sheet\n",
    "- enable 2 API services  \n",
    "- connect to G sheet"
   ]
  },
  {
   "cell_type": "code",
   "execution_count": 7,
   "id": "b6b6a888",
   "metadata": {},
   "outputs": [
    {
     "name": "stdout",
     "output_type": "stream",
     "text": [
      "<Spreadsheet 'my_gsh_test' id:1X_rTV2PkpFN-5HPsBbreO6Vyiga3d8Q_jQDM8S0GgqY> <Worksheet 'Sheet1' id:0>\n"
     ]
    }
   ],
   "source": [
    "#authenticate\n",
    "gc = gspread.oauth()\n",
    "\n",
    "#connect\n",
    "sh = gc.open(SHEET_ID)\n",
    "worksheet = sh.worksheet(SHEET_NAME)\n",
    "\n",
    "print(sh, worksheet)\n",
    "#print(sh.sheet1.get('A1'))"
   ]
  },
  {
   "cell_type": "markdown",
   "id": "407381fb",
   "metadata": {},
   "source": [
    "- Update G sheet with data from local .csv  \n",
    "overwrites the entire sheet"
   ]
  },
  {
   "cell_type": "code",
   "execution_count": 8,
   "id": "339457a5",
   "metadata": {},
   "outputs": [
    {
     "data": {
      "text/plain": [
       "['First Name',\n",
       " 'Middle Name',\n",
       " 'Last Name',\n",
       " 'Pref. Phone',\n",
       " 'Mobile Phone',\n",
       " 'Date added',\n",
       " 'Created date',\n",
       " 'Updated by']"
      ]
     },
     "execution_count": 8,
     "metadata": {},
     "output_type": "execute_result"
    }
   ],
   "source": [
    "#preview headers\n",
    "worksheet.row_values(1)"
   ]
  },
  {
   "cell_type": "code",
   "execution_count": 9,
   "id": "068563ba",
   "metadata": {},
   "outputs": [],
   "source": [
    "#update by overwriting entire G sheet\n",
    "d = worksheet.update(values)"
   ]
  },
  {
   "cell_type": "code",
   "execution_count": 10,
   "id": "5b3f1331",
   "metadata": {},
   "outputs": [
    {
     "name": "stdout",
     "output_type": "stream",
     "text": [
      "{'spreadsheetId': '1X_rTV2PkpFN-5HPsBbreO6Vyiga3d8Q_jQDM8S0GgqY', 'updatedRange': 'Sheet1!A1:H5', 'updatedRows': 5, 'updatedColumns': 8, 'updatedCells': 40}\n"
     ]
    },
    {
     "data": {
      "text/plain": [
       "'Sheet1!A1:H5'"
      ]
     },
     "execution_count": 10,
     "metadata": {},
     "output_type": "execute_result"
    }
   ],
   "source": [
    "#get range, needed for sorting\n",
    "print(d)\n",
    "d['updatedRange']"
   ]
  },
  {
   "cell_type": "code",
   "execution_count": 11,
   "id": "4775f0db",
   "metadata": {},
   "outputs": [
    {
     "data": {
      "text/plain": [
       "'H5'"
      ]
     },
     "execution_count": 11,
     "metadata": {},
     "output_type": "execute_result"
    }
   ],
   "source": [
    "d['updatedRange'][-2:]"
   ]
  },
  {
   "cell_type": "code",
   "execution_count": 12,
   "id": "53964e90",
   "metadata": {},
   "outputs": [
    {
     "data": {
      "text/plain": [
       "'A2:H5'"
      ]
     },
     "execution_count": 12,
     "metadata": {},
     "output_type": "execute_result"
    }
   ],
   "source": [
    "worksheet_range = 'A2:' + d['updatedRange'][-2:]\n",
    "worksheet_range"
   ]
  },
  {
   "cell_type": "markdown",
   "id": "ed00a97d",
   "metadata": {},
   "source": [
    "- Prep G sheet for sorting\n",
    "1) by `date added` \n",
    "2) by `first name`"
   ]
  },
  {
   "cell_type": "code",
   "execution_count": 13,
   "id": "8e1b152e",
   "metadata": {},
   "outputs": [
    {
     "name": "stdout",
     "output_type": "stream",
     "text": [
      "Found it at R1C6\n",
      "Found it at R1C1\n",
      "Sort columns:  6 1\n"
     ]
    }
   ],
   "source": [
    "#determine columns to sort\n",
    "SORT_BY_DATE = 'Date added'\n",
    "SORT_BY_FNAME = 'First Name'\n",
    "\n",
    "cell_date = worksheet.find(SORT_BY_DATE)\n",
    "print(\"Found it at R%sC%s\" % (cell_date.row, cell_date.col))\n",
    "col_date = cell_date.col\n",
    "\n",
    "cell_fname = worksheet.find(SORT_BY_FNAME)\n",
    "print(\"Found it at R%sC%s\" % (cell_fname.row, cell_fname.col))\n",
    "col_fname = cell_fname.col\n",
    "\n",
    "print(\"Sort columns: \", col_date, col_fname)"
   ]
  },
  {
   "cell_type": "markdown",
   "id": "12f41bf3",
   "metadata": {},
   "source": [
    "- Sort G sheet"
   ]
  },
  {
   "cell_type": "code",
   "execution_count": 14,
   "id": "6cffc900",
   "metadata": {},
   "outputs": [
    {
     "data": {
      "text/plain": [
       "{'spreadsheetId': '1X_rTV2PkpFN-5HPsBbreO6Vyiga3d8Q_jQDM8S0GgqY',\n",
       " 'replies': [{}]}"
      ]
     },
     "execution_count": 14,
     "metadata": {},
     "output_type": "execute_result"
    }
   ],
   "source": [
    "#sort range\n",
    "worksheet.sort((col_date, 'des'), (col_fname, 'asc'), range=worksheet_range)"
   ]
  },
  {
   "cell_type": "code",
   "execution_count": 15,
   "id": "6a104de1",
   "metadata": {},
   "outputs": [
    {
     "ename": "NameError",
     "evalue": "name 'mystop' is not defined",
     "output_type": "error",
     "traceback": [
      "\u001b[0;31m---------------------------------------------------------------------------\u001b[0m",
      "\u001b[0;31mNameError\u001b[0m                                 Traceback (most recent call last)",
      "\u001b[0;32m/var/folders/k3/_k06_ggs0jx1bf4h7lpgh00r0000gn/T/ipykernel_1968/453815950.py\u001b[0m in \u001b[0;36m<module>\u001b[0;34m\u001b[0m\n\u001b[0;32m----> 1\u001b[0;31m \u001b[0mmystop\u001b[0m\u001b[0;34m\u001b[0m\u001b[0;34m\u001b[0m\u001b[0m\n\u001b[0m",
      "\u001b[0;31mNameError\u001b[0m: name 'mystop' is not defined"
     ]
    }
   ],
   "source": [
    "mystop"
   ]
  },
  {
   "cell_type": "markdown",
   "id": "08966607",
   "metadata": {},
   "source": [
    "## Xtra"
   ]
  },
  {
   "cell_type": "code",
   "execution_count": null,
   "id": "83b1cbef",
   "metadata": {},
   "outputs": [],
   "source": [
    "#$xtra to test\n",
    "print(sh.sheet1.get('A1'))"
   ]
  },
  {
   "cell_type": "code",
   "execution_count": null,
   "id": "3c8133e6",
   "metadata": {},
   "outputs": [],
   "source": [
    "#$xtra determine last row\n",
    "#How to find the first empty row of a google spread sheet using python GSPREAD?\n",
    "# refer to https://stackoverflow.com/questions/40781295/how-to-find-the-first-empty-row-of-a-google-spread-sheet-using-python-gspread\n",
    "\n",
    "def next_available_row(worksheet):\n",
    "    str_list = list(filter(None, worksheet.col_values(1)))\n",
    "    return str(len(str_list)+1)\n",
    "\n",
    "def next_available_column(worksheet):\n",
    "    str_list = list(filter(None, worksheet.row_values(1)))\n",
    "    return str(len(str_list)+1)\n",
    "\n",
    "next_row = next_available_row(worksheet)\n",
    "last_row = int(next_row) - 1\n",
    "\n",
    "next_col = next_available_column(worksheet)\n",
    "last_col = int(next_col) - 1\n",
    "\n",
    "last_row, last_col"
   ]
  },
  {
   "cell_type": "code",
   "execution_count": null,
   "id": "24edd2e1",
   "metadata": {},
   "outputs": [],
   "source": []
  }
 ],
 "metadata": {
  "kernelspec": {
   "display_name": "Python 3 (ipykernel)",
   "language": "python",
   "name": "python3"
  },
  "language_info": {
   "codemirror_mode": {
    "name": "ipython",
    "version": 3
   },
   "file_extension": ".py",
   "mimetype": "text/x-python",
   "name": "python",
   "nbconvert_exporter": "python",
   "pygments_lexer": "ipython3",
   "version": "3.8.3"
  }
 },
 "nbformat": 4,
 "nbformat_minor": 5
}
