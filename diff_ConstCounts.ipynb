{
 "cells": [
  {
   "cell_type": "code",
   "execution_count": 1,
   "id": "19057e1b",
   "metadata": {},
   "outputs": [],
   "source": [
    "#meta 12/26/2023 Original LGL export for EZText vs Custom `HowDidYouHear` comparisons\n",
    "\n",
    "#env myMBpro\n",
    "\n",
    "#history\n",
    "#12/26/2023 COMPARE COUNTS BETWEEN TWO REPORTS\n",
    "#     local: get csvs from 2023-12-25\n",
    "#     Original LGL export for EZText vs Custom `How Did You Hear About UDS``\n",
    "#     Significant count differences\n",
    "\n",
    "\n",
    "#References"
   ]
  },
  {
   "cell_type": "code",
   "execution_count": 2,
   "id": "e6ff21a7",
   "metadata": {},
   "outputs": [],
   "source": [
    "import sys\n",
    "import pandas as pd\n",
    "import numpy as np"
   ]
  },
  {
   "cell_type": "code",
   "execution_count": 3,
   "id": "5b2d0e95",
   "metadata": {},
   "outputs": [
    {
     "data": {
      "text/plain": [
       "(sys.version_info(major=3, minor=10, micro=10, releaselevel='final', serial=0),\n",
       " '2.1.4',\n",
       " '1.26.3')"
      ]
     },
     "execution_count": 3,
     "metadata": {},
     "output_type": "execute_result"
    }
   ],
   "source": [
    "sys.version_info, pd.__version__, np.__version__"
   ]
  },
  {
   "cell_type": "code",
   "execution_count": 4,
   "id": "3de79f23",
   "metadata": {},
   "outputs": [],
   "source": [
    "# VARS\n",
    "FILE_IN = 'data/text_message_phone_number_list_2023-12-26.csv'\n",
    "FILE_IN2 = 'data/custom_HowDidYouHearAboutUDS_v2 2023-12-25.csv'"
   ]
  },
  {
   "cell_type": "markdown",
   "id": "1b747fe9",
   "metadata": {},
   "source": [
    "# Compare: Counts \n",
    "- Original LGL export for EZText \n",
    "- Custom `How did you hear about UDS?`"
   ]
  },
  {
   "cell_type": "markdown",
   "id": "ee4f0842",
   "metadata": {},
   "source": [
    "## 0. Load data \n",
    "from CSV  \n",
    "$note: problem with duplicates -> need a decision + cleanup effort"
   ]
  },
  {
   "cell_type": "code",
   "execution_count": 5,
   "id": "27a59382",
   "metadata": {},
   "outputs": [
    {
     "name": "stdout",
     "output_type": "stream",
     "text": [
      "(397, 5)\n",
      "Index(['LGL Constituent ID', 'First Name', 'Last Name', 'Pref. Phone',\n",
      "       'Date added'],\n",
      "      dtype='object')\n"
     ]
    }
   ],
   "source": [
    "df_report = pd.read_csv(FILE_IN)\n",
    "\n",
    "print(df_report.shape)\n",
    "print(df_report.columns)\n",
    "df_report.head();"
   ]
  },
  {
   "cell_type": "code",
   "execution_count": 6,
   "id": "de3c429d",
   "metadata": {},
   "outputs": [
    {
     "name": "stdout",
     "output_type": "stream",
     "text": [
      "(281, 11)\n",
      "Index(['First Name', 'Last Name', 'Contact rpt. summary',\n",
      "       'Contact rpt. description', 'Contact rpt. type', 'Contact rpt. date',\n",
      "       'LGL Constituent ID', 'Home Phone', 'Home Email',\n",
      "       'Contact rpt. team member', 'Last contact rpt.'],\n",
      "      dtype='object')\n"
     ]
    }
   ],
   "source": [
    "df_report2 = pd.read_csv(FILE_IN2)\n",
    "\n",
    "print(df_report2.shape)\n",
    "print(df_report2.columns)\n",
    "df_report2.head();"
   ]
  },
  {
   "cell_type": "markdown",
   "id": "7de96f5d",
   "metadata": {},
   "source": [
    "- Important: unique Constituents count in `How did you hear ...`"
   ]
  },
  {
   "cell_type": "code",
   "execution_count": 7,
   "id": "0e7590b5",
   "metadata": {},
   "outputs": [
    {
     "data": {
      "text/plain": [
       "LGL Constituent ID\n",
       "946637    5\n",
       "946372    4\n",
       "945782    4\n",
       "946707    3\n",
       "946377    3\n",
       "         ..\n",
       "946152    1\n",
       "946132    1\n",
       "947077    1\n",
       "947072    1\n",
       "947067    1\n",
       "Name: count, Length: 204, dtype: int64"
      ]
     },
     "execution_count": 7,
     "metadata": {},
     "output_type": "execute_result"
    }
   ],
   "source": [
    "df_report2['LGL Constituent ID'].value_counts()"
   ]
  },
  {
   "cell_type": "markdown",
   "id": "d04acd6f",
   "metadata": {},
   "source": [
    "## 1. Data Prep\n",
    "\n",
    "### 1.1 Look for duplicates in Original LGL export for EZText\n",
    "\n",
    "duplicates by `First Name` + `Pref. Phone`"
   ]
  },
  {
   "cell_type": "code",
   "execution_count": 8,
   "id": "b6b6a888",
   "metadata": {},
   "outputs": [
    {
     "data": {
      "text/plain": [
       "(0, 11)"
      ]
     },
     "execution_count": 8,
     "metadata": {},
     "output_type": "execute_result"
    }
   ],
   "source": [
    "include_cols = ['First Name', 'Pref. Phone']\n",
    "df_report.duplicated().sum(), df_report.duplicated(subset = include_cols).sum()"
   ]
  },
  {
   "cell_type": "code",
   "execution_count": 9,
   "id": "f0ad92c2",
   "metadata": {},
   "outputs": [
    {
     "name": "stdout",
     "output_type": "stream",
     "text": [
      "21\n"
     ]
    }
   ],
   "source": [
    "idx_duplicated = df_report.duplicated(subset = include_cols, keep=False) #mark all dups True\n",
    "print((idx_duplicated == True).sum())\n",
    "df_report.loc[idx_duplicated].sort_values(by = include_cols);"
   ]
  },
  {
   "cell_type": "markdown",
   "id": "44562cb3",
   "metadata": {},
   "source": [
    "duplicates by `Pref. Phone`\n"
   ]
  },
  {
   "cell_type": "code",
   "execution_count": 10,
   "id": "0d186d10",
   "metadata": {},
   "outputs": [
    {
     "data": {
      "text/plain": [
       "(0, 19)"
      ]
     },
     "execution_count": 10,
     "metadata": {},
     "output_type": "execute_result"
    }
   ],
   "source": [
    "include_cols = ['Pref. Phone']\n",
    "df_report.duplicated().sum(), df_report.duplicated(subset = include_cols).sum()"
   ]
  },
  {
   "cell_type": "code",
   "execution_count": 11,
   "id": "a1bc4f8c",
   "metadata": {},
   "outputs": [
    {
     "name": "stdout",
     "output_type": "stream",
     "text": [
      "36\n"
     ]
    }
   ],
   "source": [
    "idx_duplicated = df_report.duplicated(subset = include_cols, keep=False) #mark all dups True\n",
    "print((idx_duplicated == True).sum())\n",
    "df_report.loc[idx_duplicated].sort_values(by = include_cols);"
   ]
  },
  {
   "cell_type": "markdown",
   "id": "53abb9b9",
   "metadata": {},
   "source": [
    "Findings:  \n",
    "duplicate records -> need to clean up to have accurate Constituents data\n",
    "\n",
    "### 1.2 Look for duplicates in custom report `How did you hear ...` "
   ]
  },
  {
   "cell_type": "code",
   "execution_count": 12,
   "id": "49a5e826",
   "metadata": {},
   "outputs": [
    {
     "data": {
      "text/plain": [
       "(1, 4)"
      ]
     },
     "execution_count": 12,
     "metadata": {},
     "output_type": "execute_result"
    }
   ],
   "source": [
    "include_cols = ['First Name', 'Last Name', 'Home Phone', 'Contact rpt. description']\n",
    "df_report2.duplicated().sum(), df_report2.duplicated(subset = include_cols).sum()"
   ]
  },
  {
   "cell_type": "markdown",
   "id": "9e4a4cfe",
   "metadata": {},
   "source": [
    "total duplicates"
   ]
  },
  {
   "cell_type": "code",
   "execution_count": 13,
   "id": "6e4b041f",
   "metadata": {},
   "outputs": [
    {
     "name": "stdout",
     "output_type": "stream",
     "text": [
      "2\n"
     ]
    }
   ],
   "source": [
    "idx_duplicated = df_report2.duplicated(keep = False) #mark all dups True\n",
    "print((idx_duplicated == True).sum())\n",
    "df_report2.loc[idx_duplicated].sort_values(by = include_cols);"
   ]
  },
  {
   "cell_type": "markdown",
   "id": "820fd59c",
   "metadata": {},
   "source": [
    "duplicates by `First Name`, `Last Name`, `Home Phone`, `Contact rpt. description`"
   ]
  },
  {
   "cell_type": "code",
   "execution_count": 14,
   "id": "f0374d1e",
   "metadata": {},
   "outputs": [
    {
     "name": "stdout",
     "output_type": "stream",
     "text": [
      "8\n"
     ]
    }
   ],
   "source": [
    "idx_duplicated = df_report2.duplicated(subset = include_cols, keep=False) #mark all dups True\n",
    "print((idx_duplicated == True).sum())\n",
    "df_report2.loc[idx_duplicated].sort_values(by = include_cols);"
   ]
  },
  {
   "cell_type": "markdown",
   "id": "35ef112c",
   "metadata": {},
   "source": [
    "duplicates by `First Name`, `Last Name`, `Home Phone`  \n",
    "$note: displaying partial list only"
   ]
  },
  {
   "cell_type": "code",
   "execution_count": 15,
   "id": "ced89244",
   "metadata": {},
   "outputs": [
    {
     "data": {
      "text/plain": [
       "(1, 80)"
      ]
     },
     "execution_count": 15,
     "metadata": {},
     "output_type": "execute_result"
    }
   ],
   "source": [
    "include_cols = ['First Name', 'Last Name', 'Home Phone']\n",
    "df_report2.duplicated().sum(), df_report2.duplicated(subset = include_cols).sum()"
   ]
  },
  {
   "cell_type": "code",
   "execution_count": 16,
   "id": "0946065b",
   "metadata": {},
   "outputs": [
    {
     "name": "stdout",
     "output_type": "stream",
     "text": [
      "145\n"
     ]
    }
   ],
   "source": [
    "idx_duplicated = df_report2.duplicated(subset = include_cols, keep=False) #mark all dups True\n",
    "print((idx_duplicated == True).sum())\n",
    "df_report2.loc[idx_duplicated].sort_values(by = include_cols);"
   ]
  },
  {
   "cell_type": "markdown",
   "id": "cc7d6e00",
   "metadata": {},
   "source": [
    "Findings:  \n",
    "duplicate records -> need to clean up to have accurate Constituents data\n",
    "\n",
    "### 1.3 Tidy data\n",
    "between the Original export  vs custom report `How did you hear ...` \n",
    "\n",
    "#### 1.3.1 Original tidy\n",
    "\n",
    "$assumption: get rid of obvious duplicates in both reports, start with `First Name`, `Pref. Phone`\n"
   ]
  },
  {
   "cell_type": "code",
   "execution_count": 17,
   "id": "26861971",
   "metadata": {},
   "outputs": [
    {
     "name": "stdout",
     "output_type": "stream",
     "text": [
      "(397, 3)\n",
      "Index(['First Name', 'Pref. Phone', 'LGL Constituent ID'], dtype='object')\n"
     ]
    }
   ],
   "source": [
    "include_cols = ['First Name', 'Pref. Phone', 'LGL Constituent ID']\n",
    "df_report_tidy = df_report[include_cols].copy()\n",
    "df_report_tidy.drop_duplicates(keep = 'last', inplace= True)\n",
    "\n",
    "print(df_report_tidy.shape)\n",
    "print(df_report_tidy.columns)\n",
    "df_report_tidy.head();"
   ]
  },
  {
   "cell_type": "markdown",
   "id": "407381fb",
   "metadata": {},
   "source": [
    "#### 1.3.2 `How did you hear ...` tidy\n",
    "\n",
    "$assumption: get rid of obvious duplicates in both reports, start with complete dups\n"
   ]
  },
  {
   "cell_type": "code",
   "execution_count": 18,
   "id": "339457a5",
   "metadata": {},
   "outputs": [
    {
     "name": "stdout",
     "output_type": "stream",
     "text": [
      "(280, 11)\n",
      "Index(['First Name', 'Last Name', 'Contact rpt. summary',\n",
      "       'Contact rpt. description', 'Contact rpt. type', 'Contact rpt. date',\n",
      "       'LGL Constituent ID', 'Home Phone', 'Home Email',\n",
      "       'Contact rpt. team member', 'Last contact rpt.'],\n",
      "      dtype='object')\n"
     ]
    }
   ],
   "source": [
    "df_report2_tidy = df_report2.copy()\n",
    "df_report2_tidy.drop_duplicates(keep = 'last', inplace= True)\n",
    "\n",
    "print(df_report2_tidy.shape)\n",
    "print(df_report2_tidy.columns)\n",
    "df_report2_tidy.head();"
   ]
  },
  {
   "cell_type": "markdown",
   "id": "c469c9d3",
   "metadata": {},
   "source": [
    "- `How did you hear ...` tidy\n",
    "\n",
    "$assumption: get rid of obvious duplicates in both reports, start with duplicates by `First Name`, `Last Name`, `Home Phone`, `Contact rpt. description`"
   ]
  },
  {
   "cell_type": "code",
   "execution_count": 19,
   "id": "068563ba",
   "metadata": {},
   "outputs": [
    {
     "name": "stdout",
     "output_type": "stream",
     "text": [
      "(277, 5)\n",
      "Index(['First Name', 'Last Name', 'Home Phone', 'Contact rpt. description',\n",
      "       'LGL Constituent ID'],\n",
      "      dtype='object')\n"
     ]
    }
   ],
   "source": [
    "include_cols = ['First Name', 'Last Name', 'Home Phone', 'Contact rpt. description', 'LGL Constituent ID']\n",
    "df_report2_tidy = df_report2_tidy[include_cols].copy()\n",
    "df_report2_tidy.drop_duplicates(keep = 'last', inplace= True)\n",
    "\n",
    "print(df_report2_tidy.shape)\n",
    "print(df_report2_tidy.columns)\n",
    "df_report2_tidy.head();"
   ]
  },
  {
   "cell_type": "markdown",
   "id": "01b3a0ef",
   "metadata": {},
   "source": [
    "## 2. Analysis: Compare\n",
    "### 2.0 Count differences \n",
    "\n",
    "Original export has more Constituents than custom `How did you hear ...`.  \n",
    "Question: Why?"
   ]
  },
  {
   "cell_type": "code",
   "execution_count": 20,
   "id": "410a4d50",
   "metadata": {},
   "outputs": [
    {
     "name": "stdout",
     "output_type": "stream",
     "text": [
      "(274, 7)\n"
     ]
    }
   ],
   "source": [
    "df_tidy_inner = df_report_tidy.merge(df_report2_tidy, left_on='LGL Constituent ID', right_on= 'LGL Constituent ID')\n",
    "print(df_tidy_inner.shape)\n",
    "df_tidy_inner;"
   ]
  },
  {
   "cell_type": "code",
   "execution_count": 21,
   "id": "4775f0db",
   "metadata": {},
   "outputs": [
    {
     "name": "stdout",
     "output_type": "stream",
     "text": [
      "(469, 7)\n"
     ]
    }
   ],
   "source": [
    "df_tidy_left = df_report_tidy.merge(df_report2_tidy, how = 'left', left_on='LGL Constituent ID', right_on= 'LGL Constituent ID')\n",
    "print(df_tidy_left.shape)\n",
    "df_tidy_left;"
   ]
  },
  {
   "cell_type": "code",
   "execution_count": 22,
   "id": "01c14443",
   "metadata": {},
   "outputs": [
    {
     "name": "stdout",
     "output_type": "stream",
     "text": [
      "(277, 7)\n"
     ]
    }
   ],
   "source": [
    "df_tidy_right = df_report_tidy.merge(df_report2_tidy, how = 'right', left_on='LGL Constituent ID', right_on= 'LGL Constituent ID')\n",
    "print(df_tidy_right.shape)\n",
    "df_tidy_right;"
   ]
  },
  {
   "cell_type": "markdown",
   "id": "067e1e96",
   "metadata": {},
   "source": [
    "Findings:  \n",
    "- Original export lists all the Constituents (including duplicates) even when they don't have recorded contact activity  \n",
    "- Custom `How did you hear ...` report shows all the Constituents that have a recorded contact activity.\n",
    "\n",
    "Probably: originally entered new Constituents into LGL daily and didn't have a consisten process to record contact / task / note activities.\n",
    "\n",
    "Question: Who are the Constituents with no follow-up contact?  Should they show up in the latest custom `How did u ...` report?"
   ]
  },
  {
   "cell_type": "code",
   "execution_count": 23,
   "id": "7c1f230e",
   "metadata": {},
   "outputs": [
    {
     "data": {
      "text/plain": [
       "((397,), (204,))"
      ]
     },
     "execution_count": 23,
     "metadata": {},
     "output_type": "execute_result"
    }
   ],
   "source": [
    "r1_constituents = df_report_tidy['LGL Constituent ID'].unique()\n",
    "r2_constituents = df_report2_tidy['LGL Constituent ID'].unique()\n",
    "\n",
    "r1_constituents.shape, r2_constituents.shape "
   ]
  },
  {
   "cell_type": "markdown",
   "id": "ed6fa23b",
   "metadata": {},
   "source": [
    "### 2.1 Constituents in Original LGL export but with no recorded Contact activity"
   ]
  },
  {
   "cell_type": "code",
   "execution_count": 24,
   "id": "53964e90",
   "metadata": {},
   "outputs": [
    {
     "data": {
      "text/plain": [
       "(195,\n",
       " {945027,\n",
       "  945032,\n",
       "  945037,\n",
       "  945042,\n",
       "  945047,\n",
       "  945052,\n",
       "  945062,\n",
       "  945067,\n",
       "  945072,\n",
       "  945077,\n",
       "  945097,\n",
       "  945117,\n",
       "  945122,\n",
       "  945127,\n",
       "  945142,\n",
       "  945152,\n",
       "  945157,\n",
       "  945162,\n",
       "  945172,\n",
       "  945177,\n",
       "  945182,\n",
       "  945187,\n",
       "  945192,\n",
       "  945202,\n",
       "  945207,\n",
       "  945212,\n",
       "  945217,\n",
       "  945222,\n",
       "  945232,\n",
       "  945237,\n",
       "  945242,\n",
       "  945247,\n",
       "  945262,\n",
       "  945267,\n",
       "  945272,\n",
       "  945277,\n",
       "  945282,\n",
       "  945287,\n",
       "  945292,\n",
       "  945302,\n",
       "  945307,\n",
       "  945312,\n",
       "  945317,\n",
       "  945322,\n",
       "  945332,\n",
       "  945342,\n",
       "  945357,\n",
       "  945362,\n",
       "  945372,\n",
       "  945377,\n",
       "  945382,\n",
       "  945387,\n",
       "  945392,\n",
       "  945407,\n",
       "  945417,\n",
       "  945422,\n",
       "  945427,\n",
       "  945432,\n",
       "  945437,\n",
       "  945442,\n",
       "  945457,\n",
       "  945462,\n",
       "  945467,\n",
       "  945472,\n",
       "  945477,\n",
       "  945482,\n",
       "  945487,\n",
       "  945492,\n",
       "  945497,\n",
       "  945507,\n",
       "  945517,\n",
       "  945522,\n",
       "  945527,\n",
       "  945537,\n",
       "  945542,\n",
       "  945547,\n",
       "  945552,\n",
       "  945557,\n",
       "  945562,\n",
       "  945567,\n",
       "  945572,\n",
       "  945582,\n",
       "  945587,\n",
       "  945592,\n",
       "  945597,\n",
       "  945602,\n",
       "  945607,\n",
       "  945617,\n",
       "  945622,\n",
       "  945627,\n",
       "  945632,\n",
       "  945637,\n",
       "  945642,\n",
       "  945647,\n",
       "  945652,\n",
       "  945657,\n",
       "  945662,\n",
       "  945667,\n",
       "  945672,\n",
       "  945677,\n",
       "  945687,\n",
       "  945692,\n",
       "  945697,\n",
       "  945702,\n",
       "  945707,\n",
       "  945712,\n",
       "  945717,\n",
       "  945722,\n",
       "  945727,\n",
       "  945747,\n",
       "  945752,\n",
       "  945757,\n",
       "  945762,\n",
       "  945767,\n",
       "  945772,\n",
       "  945777,\n",
       "  945797,\n",
       "  945802,\n",
       "  945807,\n",
       "  945812,\n",
       "  945832,\n",
       "  945837,\n",
       "  945877,\n",
       "  945887,\n",
       "  945897,\n",
       "  945902,\n",
       "  945907,\n",
       "  945932,\n",
       "  945937,\n",
       "  945942,\n",
       "  945972,\n",
       "  945992,\n",
       "  946012,\n",
       "  946022,\n",
       "  946027,\n",
       "  946032,\n",
       "  946052,\n",
       "  946057,\n",
       "  946062,\n",
       "  946072,\n",
       "  946082,\n",
       "  946087,\n",
       "  946092,\n",
       "  946127,\n",
       "  946157,\n",
       "  946307,\n",
       "  946317,\n",
       "  946327,\n",
       "  946332,\n",
       "  946337,\n",
       "  946342,\n",
       "  946352,\n",
       "  946357,\n",
       "  946362,\n",
       "  946367,\n",
       "  946407,\n",
       "  946437,\n",
       "  946467,\n",
       "  946477,\n",
       "  946482,\n",
       "  946512,\n",
       "  946572,\n",
       "  946642,\n",
       "  946672,\n",
       "  946757,\n",
       "  946762,\n",
       "  946767,\n",
       "  946772,\n",
       "  946882,\n",
       "  946887,\n",
       "  946917,\n",
       "  946972,\n",
       "  946977,\n",
       "  946982,\n",
       "  946997,\n",
       "  947002,\n",
       "  947007,\n",
       "  947012,\n",
       "  947017,\n",
       "  947022,\n",
       "  947027,\n",
       "  947032,\n",
       "  947037,\n",
       "  947117,\n",
       "  947122,\n",
       "  947127,\n",
       "  947132,\n",
       "  947137,\n",
       "  947142,\n",
       "  947147,\n",
       "  947152,\n",
       "  947157,\n",
       "  947162,\n",
       "  947167,\n",
       "  947182})"
      ]
     },
     "execution_count": 24,
     "metadata": {},
     "output_type": "execute_result"
    }
   ],
   "source": [
    "len(set(r1_constituents) - set(r2_constituents)), set(r1_constituents) - set(r2_constituents)"
   ]
  },
  {
   "cell_type": "markdown",
   "id": "2f1a847a",
   "metadata": {},
   "source": [
    "### 2.2 Constituents with recorded Contact activity but not in Original LGL export for EZText"
   ]
  },
  {
   "cell_type": "code",
   "execution_count": 25,
   "id": "a981adb4",
   "metadata": {},
   "outputs": [
    {
     "data": {
      "text/plain": [
       "(2, {945977, 946592})"
      ]
     },
     "execution_count": 25,
     "metadata": {},
     "output_type": "execute_result"
    }
   ],
   "source": [
    "len(set(r2_constituents) - set(r1_constituents)), set(r2_constituents) - set(r1_constituents)"
   ]
  },
  {
   "cell_type": "code",
   "execution_count": 26,
   "id": "6a104de1",
   "metadata": {},
   "outputs": [
    {
     "ename": "NameError",
     "evalue": "name 'mystop' is not defined",
     "output_type": "error",
     "traceback": [
      "\u001b[0;31m---------------------------------------------------------------------------\u001b[0m",
      "\u001b[0;31mNameError\u001b[0m                                 Traceback (most recent call last)",
      "Cell \u001b[0;32mIn[26], line 1\u001b[0m\n\u001b[0;32m----> 1\u001b[0m \u001b[43mmystop\u001b[49m\n",
      "\u001b[0;31mNameError\u001b[0m: name 'mystop' is not defined"
     ]
    }
   ],
   "source": [
    "mystop"
   ]
  },
  {
   "cell_type": "markdown",
   "id": "08966607",
   "metadata": {},
   "source": [
    "## Xtra"
   ]
  },
  {
   "cell_type": "code",
   "execution_count": null,
   "id": "223cdc3d",
   "metadata": {},
   "outputs": [],
   "source": [
    "#How to find set difference between two Numpy arrays?\n",
    "# refer to https://www.tutorialspoint.com/how-to-find-set-difference-between-two-numpy-arrays\n",
    "\n",
    "array_1 = np.array([2,4,6,8,10,12,14])\n",
    "print(\"Array 1: \\n\", array_1)\n",
    "\n",
    "array_2 = np.array([4,8,12])\n",
    "print(\"\\nArray 2: \\n\", array_2)\n",
    "\n",
    "set_diff = np.setdiff1d(array_1, array_2)\n",
    "print(\"\\nThe set difference between array_1 and array_2 is:\\n\",set_diff)"
   ]
  },
  {
   "cell_type": "code",
   "execution_count": null,
   "id": "8f2253c9",
   "metadata": {},
   "outputs": [],
   "source": []
  }
 ],
 "metadata": {
  "kernelspec": {
   "display_name": "Python 3 (ipykernel)",
   "language": "python",
   "name": "python3"
  },
  "language_info": {
   "codemirror_mode": {
    "name": "ipython",
    "version": 3
   },
   "file_extension": ".py",
   "mimetype": "text/x-python",
   "name": "python",
   "nbconvert_exporter": "python",
   "pygments_lexer": "ipython3",
   "version": "3.10.10"
  }
 },
 "nbformat": 4,
 "nbformat_minor": 5
}
